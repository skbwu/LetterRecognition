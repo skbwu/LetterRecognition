{
 "cells": [
  {
   "cell_type": "code",
   "execution_count": 1,
   "metadata": {},
   "outputs": [],
   "source": [
    "# import required packages/libraries:\n",
    "import numpy as np\n",
    "import matplotlib.pyplot as plt\n",
    "import tensorflow as tf\n",
    "from tensorflow import keras\n",
    "from tensorflow.keras import layers\n",
    "import math\n",
    "import csv"
   ]
  },
  {
   "cell_type": "code",
   "execution_count": 2,
   "metadata": {},
   "outputs": [],
   "source": [
    "# Notes: \n",
    "# Dataset: https://archive.ics.uci.edu/ml/datasets/Letter+Recognition\n",
    "# Objective: train a model that can identify letters from obscured / distorted text."
   ]
  },
  {
   "cell_type": "code",
   "execution_count": 3,
   "metadata": {},
   "outputs": [],
   "source": [
    "# load dataset using csv file (even though it's a .data file):\n",
    "csv.field_size_limit(100000000)\n",
    "data = []\n",
    "\n",
    "with open('letter-recognition.data', 'r', encoding=\"utf8\") as file:\n",
    "    rows = csv.reader(file)\n",
    "    for row in rows:\n",
    "        row[0] = ord(row[0])-65\n",
    "        int_list = list(map(int, row))\n",
    "        arr = np.array(int_list)\n",
    "        data.append(arr)\n",
    "\n",
    "# convert to numpy array for access to np functions.\n",
    "npdata = np.array(data)"
   ]
  },
  {
   "cell_type": "code",
   "execution_count": 4,
   "metadata": {},
   "outputs": [],
   "source": [
    "# sort the data by letter. store in a list of lists (of numpy arrays)\n",
    "letter_array = []\n",
    "\n",
    "# create 26 buckets, 1 for each letter.\n",
    "for i in range(26):\n",
    "    letter_array.append([])\n",
    "\n",
    "# letter_array[0] is a LIST of all entries corresponding to the letter 'A'\n",
    "for row in npdata:\n",
    "    letter_array[row[0]].append(row[1:])"
   ]
  },
  {
   "cell_type": "code",
   "execution_count": 5,
   "metadata": {},
   "outputs": [],
   "source": [
    "# shuffle the data.\n",
    "for letter in letter_array:\n",
    "    np.random.shuffle(letter)\n",
    "    \n",
    "# splitting into testing and training data.\n",
    "train_percent = 0.8\n",
    "\n",
    "\n",
    "# creating separate list of numpy arrays for easy iteration.\n",
    "training_dataX = []\n",
    "for i in range(26):\n",
    "    training_dataX.append([])\n",
    "    \n",
    "training_dataY = []\n",
    "for i in range(26):\n",
    "    training_dataY.append([])\n",
    "    \n",
    "testing_dataX = []\n",
    "for i in range(26):\n",
    "    testing_dataX.append([])\n",
    "    \n",
    "testing_dataY = []\n",
    "for i in range(26):\n",
    "    testing_dataY.append([])\n",
    "\n",
    "# for each letter, adding to respective lists above.\n",
    "for i in range(26):\n",
    "    zeros = np.zeros(26)\n",
    "    zeros[i] = 1\n",
    "    cutoff = math.floor(len(letter_array[i]) * train_percent)\n",
    "    \n",
    "    training_dataX[i] = letter_array[i][:cutoff]\n",
    "    training_dataY[i] = np.tile(zeros, (len(training_dataX[i]), 1))\n",
    "    \n",
    "    testing_dataX[i] = letter_array[i][cutoff:]\n",
    "    testing_dataY[i] = np.tile(zeros, (len(testing_dataX[i]), 1))\n",
    "\n",
    "# create combined training data.\n",
    "X_train = np.concatenate(tuple(training_dataX))\n",
    "Y_train = np.concatenate(tuple(training_dataY))\n",
    "X_test = np.concatenate(tuple(testing_dataX))\n",
    "Y_test = np.concatenate(tuple(testing_dataY))"
   ]
  },
  {
   "cell_type": "code",
   "execution_count": 6,
   "metadata": {},
   "outputs": [],
   "source": [
    "# building out the model\n",
    "model = keras.models.Sequential()\n",
    "\n",
    "# adding the first hidden layer: note shape=(16,) because I removed the actual letter identifier.\n",
    "model.add(layers.Dense(512, input_shape=(16,)))\n",
    "model.add(layers.Activation('relu'))                            \n",
    "model.add(layers.Dropout(0.2))\n",
    "\n",
    "# adding the second hidden layer\n",
    "model.add(layers.Dense(512))\n",
    "model.add(layers.Activation('relu'))\n",
    "model.add(layers.Dropout(0.2))\n",
    "\n",
    "# adding the output layer: should be one of 26 outputs (one for each letter)\n",
    "model.add(layers.Dense(26))\n",
    "model.add(layers.Activation('softmax'))"
   ]
  },
  {
   "cell_type": "code",
   "execution_count": 7,
   "metadata": {},
   "outputs": [],
   "source": [
    "# compiling the model (straight from sample code)\n",
    "model.compile(loss='categorical_crossentropy', metrics=['accuracy'], optimizer='adam')"
   ]
  },
  {
   "cell_type": "code",
   "execution_count": null,
   "metadata": {},
   "outputs": [
    {
     "name": "stdout",
     "output_type": "stream",
     "text": [
      "Train on 15989 samples, validate on 4011 samples\n",
      "Epoch 1/20\n",
      "15989/15989 - 2s - loss: 1.5950 - accuracy: 0.5338 - val_loss: 0.8463 - val_accuracy: 0.7597\n",
      "Epoch 2/20\n",
      "15989/15989 - 1s - loss: 0.8459 - accuracy: 0.7419 - val_loss: 0.5845 - val_accuracy: 0.8282\n",
      "Epoch 3/20\n",
      "15989/15989 - 1s - loss: 0.6439 - accuracy: 0.7994 - val_loss: 0.4508 - val_accuracy: 0.8709\n",
      "Epoch 4/20\n",
      "15989/15989 - 1s - loss: 0.5323 - accuracy: 0.8367 - val_loss: 0.3654 - val_accuracy: 0.8960\n",
      "Epoch 5/20\n",
      "15989/15989 - 1s - loss: 0.4462 - accuracy: 0.8578 - val_loss: 0.3207 - val_accuracy: 0.9068\n",
      "Epoch 6/20\n",
      "15989/15989 - 1s - loss: 0.3916 - accuracy: 0.8767 - val_loss: 0.2827 - val_accuracy: 0.9177\n",
      "Epoch 7/20\n",
      "15989/15989 - 1s - loss: 0.3389 - accuracy: 0.8932 - val_loss: 0.2401 - val_accuracy: 0.9270\n",
      "Epoch 8/20\n",
      "15989/15989 - 1s - loss: 0.3107 - accuracy: 0.9039 - val_loss: 0.2220 - val_accuracy: 0.9299\n",
      "Epoch 9/20\n",
      "15989/15989 - 1s - loss: 0.2851 - accuracy: 0.9086 - val_loss: 0.2150 - val_accuracy: 0.9334\n",
      "Epoch 10/20\n"
     ]
    }
   ],
   "source": [
    "# training the model (straight from sample code)\n",
    "history = model.fit(X_train, Y_train,\n",
    "          batch_size=128, epochs=20,\n",
    "          verbose=2,\n",
    "          validation_data=(X_test, Y_test))"
   ]
  }
 ],
 "metadata": {
  "kernelspec": {
   "display_name": "Python 3",
   "language": "python",
   "name": "python3"
  },
  "language_info": {
   "codemirror_mode": {
    "name": "ipython",
    "version": 3
   },
   "file_extension": ".py",
   "mimetype": "text/x-python",
   "name": "python",
   "nbconvert_exporter": "python",
   "pygments_lexer": "ipython3",
   "version": "3.7.9"
  }
 },
 "nbformat": 4,
 "nbformat_minor": 4
}
